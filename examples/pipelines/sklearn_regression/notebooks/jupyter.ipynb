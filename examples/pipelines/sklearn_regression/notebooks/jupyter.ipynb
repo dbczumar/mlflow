{
 "cells": [
  {
   "cell_type": "code",
   "execution_count": 1,
   "metadata": {},
   "outputs": [],
   "source": [
    "%load_ext autoreload\n",
    "%autoreload 2"
   ]
  },
  {
   "cell_type": "code",
   "execution_count": 2,
   "metadata": {},
   "outputs": [
    {
     "name": "stdout",
     "output_type": "stream",
     "text": [
      "Help on package mlflow.pipelines in mlflow:\n",
      "\n",
      "NAME\n",
      "    mlflow.pipelines - Fill out help string later\n",
      "\n",
      "PACKAGE CONTENTS\n",
      "    cli\n",
      "    evaluate_step\n",
      "    notebook\n",
      "    split_step\n",
      "    train_step\n",
      "    transform_step\n",
      "\n",
      "FUNCTIONS\n",
      "    clean()\n",
      "        Clean\n",
      "    \n",
      "    evaluate()\n",
      "        Evaluate a model (explanations included)\n",
      "    \n",
      "    ingest()\n",
      "        Ingest data\n",
      "    \n",
      "    inspect()\n",
      "        Inspect specific steps or full pipeline DAG\n",
      "    \n",
      "    split()\n",
      "        Split data\n",
      "    \n",
      "    train()\n",
      "        Train a model\n",
      "    \n",
      "    transform()\n",
      "        Transform features\n",
      "\n",
      "FILE\n",
      "    /Users/corey.zumar/mlflow/mlflow/pipelines/__init__.py\n",
      "\n",
      "\n"
     ]
    }
   ],
   "source": [
    "import mlflow.pipelines\n",
    "\n",
    "help(mlflow.pipelines)"
   ]
  },
  {
   "cell_type": "code",
   "execution_count": 8,
   "metadata": {},
   "outputs": [
    {
     "name": "stdout",
     "output_type": "stream",
     "text": [
      "rm -rf split_train.parquet split_test.parquet split_summary.html transform_transformer.pkl transform_train_transformed.parquet train_pipeline.pkl train_run_id evaluate_worst_training_examples.parquet evaluate_metrics.json evaluate_explanations.html\n"
     ]
    }
   ],
   "source": [
    "mlflow.pipelines.clean()"
   ]
  },
  {
   "cell_type": "code",
   "execution_count": 3,
   "metadata": {},
   "outputs": [],
   "source": [
    "mlflow.pipelines.ingest()"
   ]
  },
  {
   "cell_type": "code",
   "execution_count": 4,
   "metadata": {},
   "outputs": [
    {
     "name": "stdout",
     "output_type": "stream",
     "text": [
      "make: Nothing to be done for `split'.\n",
      "== Showing summary of input data ==\n",
      "\n",
      "Split data into train/test sets\n",
      "== Summary of train data ==\n",
      "\n",
      "        symboling  normalized-losses  wheel-base      length       width  \\\n",
      "count  159.000000         131.000000  159.000000  159.000000  159.000000   \n",
      "mean     0.855346         121.251908   98.500629  173.499371   65.708176   \n",
      "std      1.210902          35.057391    6.218414   12.464682    2.044256   \n",
      "min     -2.000000          65.000000   86.600000  141.100000   60.300000   \n",
      "25%      0.000000          94.000000   94.500000  166.300000   64.000000   \n",
      "50%      1.000000         115.000000   96.500000  172.400000   65.400000   \n",
      "75%      2.000000         148.000000  100.400000  177.800000   66.500000   \n",
      "max      3.000000         256.000000  120.900000  208.100000   72.000000   \n",
      "\n",
      "           height  curb-weight  engine-size        bore      stroke  \\\n",
      "count  159.000000   159.000000   159.000000  156.000000  156.000000   \n",
      "mean    53.736478  2520.716981   124.125786    3.324808    3.268141   \n",
      "std      2.450327   516.260301    39.835539    0.268329    0.309000   \n",
      "min     48.800000  1488.000000    61.000000    2.680000    2.190000   \n",
      "25%     52.000000  2142.500000    97.000000    3.150000    3.140000   \n",
      "50%     54.100000  2395.000000   110.000000    3.310000    3.290000   \n",
      "75%     55.500000  2820.500000   141.000000    3.590000    3.410000   \n",
      "max     59.800000  4066.000000   308.000000    3.940000    4.170000   \n",
      "\n",
      "       compression-ratio  horsepower     peak-rpm    city-mpg  highway-mpg  \\\n",
      "count         159.000000  158.000000   158.000000  159.000000   159.000000   \n",
      "mean           10.341635   99.297468  5113.924051   25.698113    31.213836   \n",
      "std             4.220929   34.006464   493.843416    6.427546     6.871667   \n",
      "min             7.000000   48.000000  4150.000000   14.000000    16.000000   \n",
      "25%             8.650000   70.000000  4800.000000   21.000000    25.000000   \n",
      "50%             9.000000   92.000000  5100.000000   25.000000    31.000000   \n",
      "75%             9.400000  115.750000  5500.000000   30.500000    36.000000   \n",
      "max            23.000000  207.000000  6600.000000   49.000000    54.000000   \n",
      "\n",
      "              price  \n",
      "count    159.000000  \n",
      "mean   12577.899371  \n",
      "std     7573.423202  \n",
      "min     5118.000000  \n",
      "25%     7649.000000  \n",
      "50%     9988.000000  \n",
      "75%    15380.000000  \n",
      "max    45400.000000  \n",
      "== Summary of test data ==\n",
      "\n",
      "       symboling  normalized-losses  wheel-base      length      width  \\\n",
      "count  42.000000          33.000000   42.000000   42.000000  42.000000   \n",
      "mean    0.785714         124.969697   99.919048  176.857143  66.573810   \n",
      "std     1.423423          37.339226    5.373069   11.523489   2.197899   \n",
      "min    -2.000000          65.000000   89.500000  150.000000  63.600000   \n",
      "25%     0.000000          95.000000   95.700000  168.925000  64.850000   \n",
      "50%     1.000000         122.000000   99.100000  177.300000  66.500000   \n",
      "75%     2.000000         158.000000  104.100000  186.700000  67.925000   \n",
      "max     3.000000         197.000000  109.100000  192.700000  71.400000   \n",
      "\n",
      "          height  curb-weight  engine-size       bore     stroke  \\\n",
      "count  42.000000    42.000000    42.000000  41.000000  41.000000   \n",
      "mean   53.880952  2687.976190   137.285714   3.353171   3.214146   \n",
      "std     2.464503   505.550147    46.525254   0.282236   0.356476   \n",
      "min    47.800000  1837.000000    70.000000   2.540000   2.070000   \n",
      "25%    52.000000  2329.500000   111.000000   3.150000   3.070000   \n",
      "50%    54.500000  2733.000000   126.000000   3.340000   3.230000   \n",
      "75%    55.650000  3042.250000   153.500000   3.580000   3.400000   \n",
      "max    59.800000  3950.000000   326.000000   3.780000   3.900000   \n",
      "\n",
      "       compression-ratio  horsepower     peak-rpm   city-mpg  highway-mpg  \\\n",
      "count          42.000000   41.000000    41.000000  42.000000    42.000000   \n",
      "mean            9.492857  119.195122  5131.707317  23.214286    28.690476   \n",
      "std             3.000195   46.040319   430.661714   6.086914     6.280003   \n",
      "min             7.000000   60.000000  4200.000000  13.000000    17.000000   \n",
      "25%             8.500000   88.000000  4800.000000  19.000000    24.000000   \n",
      "50%             9.000000  110.000000  5200.000000  22.500000    28.000000   \n",
      "75%             9.400000  155.000000  5500.000000  26.750000    32.000000   \n",
      "max            23.000000  262.000000  6000.000000  38.000000    42.000000   \n",
      "\n",
      "              price  \n",
      "count     42.000000  \n",
      "mean   15589.214286  \n",
      "std     8927.257787  \n",
      "min     5348.000000  \n",
      "25%     8927.750000  \n",
      "50%    14227.500000  \n",
      "75%    18570.000000  \n",
      "max    37028.000000  \n"
     ]
    }
   ],
   "source": [
    "mlflow.pipelines.split()"
   ]
  },
  {
   "cell_type": "code",
   "execution_count": 5,
   "metadata": {},
   "outputs": [
    {
     "name": "stdout",
     "output_type": "stream",
     "text": [
      "python -c \"from mlflow.pipelines.transform_step import run_transform_step; run_transform_step(train_data_path='split_train.parquet', transformer_config_path='steps/transformer_config.yaml', transformer_output_path='transform_transformer.pkl', transformed_data_output_path='transform_train_transformed.parquet')\"\n",
      "== Summary of transformed features ==\n",
      "\n",
      "               0           1           2           3           4           5   \\\n",
      "count  159.000000  159.000000  159.000000  159.000000  159.000000  159.000000   \n",
      "mean     0.018868    0.025157    0.037736    0.018868    0.044025    0.075472   \n",
      "std      0.136488    0.157097    0.191159    0.136488    0.205799    0.264986   \n",
      "min      0.000000    0.000000    0.000000    0.000000    0.000000    0.000000   \n",
      "25%      0.000000    0.000000    0.000000    0.000000    0.000000    0.000000   \n",
      "50%      0.000000    0.000000    0.000000    0.000000    0.000000    0.000000   \n",
      "75%      0.000000    0.000000    0.000000    0.000000    0.000000    0.000000   \n",
      "max      1.000000    1.000000    1.000000    1.000000    1.000000    1.000000   \n",
      "\n",
      "               6           7           8           9   ...          63  \\\n",
      "count  159.000000  159.000000  159.000000  159.000000  ...  159.000000   \n",
      "mean     0.012579    0.012579    0.094340    0.037736  ...   53.736478   \n",
      "std      0.111799    0.111799    0.293224    0.191159  ...    2.450327   \n",
      "min      0.000000    0.000000    0.000000    0.000000  ...   48.800000   \n",
      "25%      0.000000    0.000000    0.000000    0.000000  ...   52.000000   \n",
      "50%      0.000000    0.000000    0.000000    0.000000  ...   54.100000   \n",
      "75%      0.000000    0.000000    0.000000    0.000000  ...   55.500000   \n",
      "max      1.000000    1.000000    1.000000    1.000000  ...   59.800000   \n",
      "\n",
      "                64          65          66          67          68  \\\n",
      "count   159.000000  159.000000  159.000000  159.000000  159.000000   \n",
      "mean   2520.716981  124.125786    3.330377    3.270629   10.341635   \n",
      "std     516.260301   39.835539    0.268806    0.306581    4.220929   \n",
      "min    1488.000000   61.000000    2.680000    2.190000    7.000000   \n",
      "25%    2142.500000   97.000000    3.150000    3.150000    8.650000   \n",
      "50%    2395.000000  110.000000    3.310000    3.290000    9.000000   \n",
      "75%    2820.500000  141.000000    3.595000    3.410000    9.400000   \n",
      "max    4066.000000  308.000000    3.940000    4.170000   23.000000   \n",
      "\n",
      "               69           70          71          72  \n",
      "count  159.000000   159.000000  159.000000  159.000000  \n",
      "mean    99.100629  5111.949686   25.698113   31.213836  \n",
      "std     33.989424   492.907260    6.427546    6.871667  \n",
      "min     48.000000  4150.000000   14.000000   16.000000  \n",
      "25%     70.000000  4800.000000   21.000000   25.000000  \n",
      "50%     92.000000  5100.000000   25.000000   31.000000  \n",
      "75%    115.500000  5500.000000   30.500000   36.000000  \n",
      "max    207.000000  6600.000000   49.000000   54.000000  \n",
      "\n",
      "[8 rows x 73 columns]\n"
     ]
    }
   ],
   "source": [
    "mlflow.pipelines.transform()"
   ]
  },
  {
   "cell_type": "code",
   "execution_count": 6,
   "metadata": {},
   "outputs": [
    {
     "name": "stdout",
     "output_type": "stream",
     "text": [
      "python -c \"from mlflow.pipelines.train_step import run_train_step; run_train_step(transformed_train_data_path='transform_train_transformed.parquet', train_config_path='steps/train_config.yaml', transformer_path='transform_transformer.pkl', tracking_uri='file:/tmp/mlruns', pipeline_output_path='train_pipeline.pkl', run_id_output_path='train_run_id')\"\n"
     ]
    },
    {
     "name": "stderr",
     "output_type": "stream",
     "text": [
      "/Users/corey.zumar/mlflow/mlflow/pipelines/train_step.py:25: YAMLLoadWarning: calling yaml.load() without Loader=... is deprecated, as the default Loader is unsafe. Please read https://msg.pyyaml.org/load for full details.\n",
      "  module_name, method_name = yaml.load(open(train_config_path, \"r\")).get(\"train_method\").rsplit('.', 1)\n",
      "2022/04/14 13:47:59 INFO mlflow.tracking.fluent: Autologging successfully enabled for sklearn.\n",
      "2022/04/14 13:47:59 INFO mlflow.tracking.fluent: Autologging successfully enabled for pyspark.\n",
      "2022/04/14 13:47:59 INFO mlflow.pyspark.ml: No SparkSession detected. Autologging will log pyspark.ml models contained in the default allowlist. To specify a custom allowlist, initialize a SparkSession prior to calling mlflow.pyspark.ml.autolog() and specify the path to your allowlist file via the spark.mlflow.pysparkml.autolog.logModelAllowlistFile conf.\n",
      "2022/04/14 13:47:59 INFO mlflow.tracking.fluent: Autologging successfully enabled for pyspark.ml.\n"
     ]
    },
    {
     "name": "stdout",
     "output_type": "stream",
     "text": [
      "== Trained a model at train_pipeline.pkl ==\n",
      "\n"
     ]
    }
   ],
   "source": [
    "mlflow.pipelines.train()"
   ]
  },
  {
   "cell_type": "code",
   "execution_count": 7,
   "metadata": {},
   "outputs": [
    {
     "name": "stdout",
     "output_type": "stream",
     "text": [
      "python -c \"from mlflow.pipelines.evaluate_step import run_evaluate_step; run_evaluate_step(pipeline_path='train_pipeline.pkl', tracking_uri='file:/tmp/mlruns', run_id_path='train_run_id', train_data_path='split_train.parquet', test_data_path='split_test.parquet', explanations_output_path='evaluate_explanations.html', metrics_output_path='evaluate_metrics.json', worst_train_examples_output_path='evaluate_worst_training_examples.parquet')\"\n"
     ]
    },
    {
     "name": "stderr",
     "output_type": "stream",
     "text": [
      "100%|██████████| 10/10 [00:02<00:00,  3.95it/s]\n"
     ]
    },
    {
     "name": "stdout",
     "output_type": "stream",
     "text": [
      "== Created the model card ==\n",
      "\n",
      "== Produced evaluation metrics ==\n",
      "\n"
     ]
    }
   ],
   "source": [
    "mlflow.pipelines.evaluate()"
   ]
  }
 ],
 "metadata": {
  "interpreter": {
   "hash": "c462df992c775797bd5d542b280333286dbcc2ffa1f781b674f30e76741ca83d"
  },
  "kernelspec": {
   "display_name": "Python 3 (ipykernel)",
   "language": "python",
   "name": "python3"
  },
  "language_info": {
   "codemirror_mode": {
    "name": "ipython",
    "version": 3
   },
   "file_extension": ".py",
   "mimetype": "text/x-python",
   "name": "python",
   "nbconvert_exporter": "python",
   "pygments_lexer": "ipython3",
   "version": "3.8.12"
  }
 },
 "nbformat": 4,
 "nbformat_minor": 4
}
